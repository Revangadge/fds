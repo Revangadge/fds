{
 "cells": [
  {
   "cell_type": "code",
   "execution_count": 32,
   "id": "439330c5",
   "metadata": {},
   "outputs": [
    {
     "name": "stdout",
     "output_type": "stream",
     "text": [
      "probability of getting 3 is:  0.16666666666666666\n"
     ]
    }
   ],
   "source": [
    "# Probability of getting 3 after rolling a dice\n",
    "ns=6 #n(S)={1,2,3,4,5,6}\n",
    "na=1 #n(A)={3}\n",
    "pa= na/ns #p(A)\n",
    "print(\"probability of getting 3 is: \",pa)\n"
   ]
  },
  {
   "cell_type": "markdown",
   "id": "2ecd1a6e",
   "metadata": {},
   "source": [
    "probability of atleast getting one head when a coin is tossed three times "
   ]
  },
  {
   "cell_type": "code",
   "execution_count": 15,
   "id": "93c6ea92",
   "metadata": {},
   "outputs": [
    {
     "name": "stdout",
     "output_type": "stream",
     "text": [
      "probability of getting one head is: 0.875\n"
     ]
    }
   ],
   "source": [
    "ns=8 #n(S)={HHH,HHT,HTH,THH,HTT,THT,TTH,TTT}\n",
    "na=7 #n(A)={HHH,HHT,HTH,THH,HTT,THT,TTH}\n",
    "pa=na/ns #P(A)\n",
    "print(\"probability of getting one head is:\",pa)"
   ]
  },
  {
   "cell_type": "code",
   "execution_count": 17,
   "id": "a19be4c0",
   "metadata": {},
   "outputs": [
    {
     "name": "stdout",
     "output_type": "stream",
     "text": [
      "probability of getting not blue jellybean: 0.7\n"
     ]
    }
   ],
   "source": [
    "#a glass of jar contains 5 red ,3 blue,2green jelly\n",
    "#beans .If a jelly beans is chosen at random from the jar,\n",
    "#what is the probability that it not blue ?\n",
    "ns=10 #n(S)={5red,3blue,2green}\n",
    "na=7 #n(A)={5red,2green}\n",
    "pa=na/ns#P(A)\n",
    "print( \"probability of getting not blue jellybean:\",pa)\n"
   ]
  },
  {
   "cell_type": "code",
   "execution_count": 5,
   "id": "b3b1fdb3",
   "metadata": {},
   "outputs": [],
   "source": [
    "def event_probability(n,s):\n",
    " return n/s"
   ]
  },
  {
   "cell_type": "code",
   "execution_count": 6,
   "id": "510b450f",
   "metadata": {},
   "outputs": [
    {
     "name": "stdout",
     "output_type": "stream",
     "text": [
      "probability of getting a 4 or 5 on the first toss and a 1, 2, or 3 in the second toss is :  0.16666666666666666\n"
     ]
    }
   ],
   "source": [
    "# a fair dice is tossed twice .Find the probability of\n",
    "#getting 4or 5 on the first dice and 1,2,3 in the second toss\n",
    "pa  =  event_probability(2,6)   # prob of getting 4 or 5 is (2/6) i.e 1/6 + 1/6\n",
    "pb  =  event_probability(3,6)\n",
    "P   =  pa*pb\n",
    "print(\"probability of getting a 4 or 5 on the first toss and a 1, 2, or 3 in the second toss is : \" , P)\n"
   ]
  },
  {
   "cell_type": "code",
   "execution_count": 9,
   "id": "c2b14358",
   "metadata": {},
   "outputs": [
    {
     "name": "stdout",
     "output_type": "stream",
     "text": [
      "probability of obtaining white , black, green marbles is 0.041666666666666664\n"
     ]
    }
   ],
   "source": [
    "#  A bag contains 5 white , 3 black  & 2 green marbles . In each draw a marble is drawn from the bag and not replaced .\n",
    "#  In three draws, find the probability of obtaining white , black, green in that order.\n",
    "pw  = event_probability(5,10) \n",
    "pb  = event_probability(3,9)\n",
    "pg  = event_probability(2,8) \n",
    "\n",
    "print(\"probability of obtaining white , black, green marbles is\",(pw * pb * pg))\n"
   ]
  },
  {
   "cell_type": "code",
   "execution_count": 10,
   "id": "de6096e3",
   "metadata": {},
   "outputs": [
    {
     "name": "stdout",
     "output_type": "stream",
     "text": [
      "0.5\n"
     ]
    }
   ],
   "source": [
    "# Sample Space \n",
    "cards= 52\n",
    "\n",
    "# Calculate the prob of drawing a heart or club\n",
    "heart  = 13\n",
    "club   = 13\n",
    "prob_heart_or_club = event_probability( heart, cards)+ event_probability(club, cards)\n",
    "print( prob_heart_or_club)"
   ]
  },
  {
   "cell_type": "code",
   "execution_count": 11,
   "id": "651d75b0",
   "metadata": {},
   "outputs": [
    {
     "name": "stdout",
     "output_type": "stream",
     "text": [
      "0.23076923076923078\n"
     ]
    }
   ],
   "source": [
    "#  Calculate the probability of drawing Ace, King or Queen\n",
    "\n",
    "ace        = 4\n",
    "king       = 4\n",
    "queen      = 4\n",
    "ace_king_or_queen = event_probability(ace, cards) + event_probability(king, cards) + event_probability(queen, cards)\n",
    "print (ace_king_or_queen)"
   ]
  },
  {
   "cell_type": "code",
   "execution_count": 12,
   "id": "f364a771",
   "metadata": {},
   "outputs": [
    {
     "name": "stdout",
     "output_type": "stream",
     "text": [
      "0.3\n"
     ]
    }
   ],
   "source": [
    "#  Calculate the probability of drawing a heart or ace card\n",
    "\n",
    "cards          =  52\n",
    "hearts         =  13\n",
    "ace            =  4\n",
    "ace_of_heart   =  1\n",
    "heart_of_ace   = event_probability(heart, cards) + event_probability(ace, cards)\n",
    "print(round(heart_of_ace , 1))"
   ]
  },
  {
   "cell_type": "code",
   "execution_count": 13,
   "id": "f53cca6c",
   "metadata": {},
   "outputs": [
    {
     "name": "stdout",
     "output_type": "stream",
     "text": [
      "0.6\n"
     ]
    }
   ],
   "source": [
    "#  Calculate the probability of drawing red cards or face cards\n",
    "\n",
    "red_card        =    26\n",
    "face_card       =    12\n",
    "red_face_card   =    6\n",
    "\n",
    "red_or_face_cards = event_probability(red_card, cards) + event_probability(face_card, cards) - event_probability(red_face_card, cards)\n",
    "print(round(red_or_face_cards, 1))"
   ]
  },
  {
   "cell_type": "markdown",
   "id": "003030e1",
   "metadata": {},
   "source": [
    "# Complementry events "
   ]
  },
  {
   "cell_type": "code",
   "execution_count": 14,
   "id": "2c109822",
   "metadata": {},
   "outputs": [
    {
     "name": "stdout",
     "output_type": "stream",
     "text": [
      "probability of not getting 5 is : 0.8333333333333334\n"
     ]
    }
   ],
   "source": [
    "#probability of not getting 5 when a fair die is rolled\n",
    "\n",
    "ns  =  6\n",
    "na  =  1     # n(A) = {5}\n",
    "pa  =  na/ns\n",
    "print(\"probability of not getting 5 is :\" ,1 - pa)"
   ]
  },
  {
   "cell_type": "markdown",
   "id": "cb59ec8e",
   "metadata": {},
   "source": [
    "# Conditional probability "
   ]
  },
  {
   "cell_type": "code",
   "execution_count": 7,
   "id": "b9796068",
   "metadata": {},
   "outputs": [
    {
     "data": {
      "text/html": [
       "<div>\n",
       "<style scoped>\n",
       "    .dataframe tbody tr th:only-of-type {\n",
       "        vertical-align: middle;\n",
       "    }\n",
       "\n",
       "    .dataframe tbody tr th {\n",
       "        vertical-align: top;\n",
       "    }\n",
       "\n",
       "    .dataframe thead th {\n",
       "        text-align: right;\n",
       "    }\n",
       "</style>\n",
       "<table border=\"1\" class=\"dataframe\">\n",
       "  <thead>\n",
       "    <tr style=\"text-align: right;\">\n",
       "      <th></th>\n",
       "      <th>school</th>\n",
       "      <th>sex</th>\n",
       "      <th>age</th>\n",
       "      <th>address</th>\n",
       "      <th>famsize</th>\n",
       "      <th>Pstatus</th>\n",
       "      <th>Medu</th>\n",
       "      <th>Fedu</th>\n",
       "      <th>Mjob</th>\n",
       "      <th>Fjob</th>\n",
       "      <th>...</th>\n",
       "      <th>famrel</th>\n",
       "      <th>freetime</th>\n",
       "      <th>goout</th>\n",
       "      <th>Dalc</th>\n",
       "      <th>Walc</th>\n",
       "      <th>health</th>\n",
       "      <th>absences</th>\n",
       "      <th>G1</th>\n",
       "      <th>G2</th>\n",
       "      <th>G3</th>\n",
       "    </tr>\n",
       "  </thead>\n",
       "  <tbody>\n",
       "    <tr>\n",
       "      <th>0</th>\n",
       "      <td>GP</td>\n",
       "      <td>F</td>\n",
       "      <td>18</td>\n",
       "      <td>U</td>\n",
       "      <td>GT3</td>\n",
       "      <td>A</td>\n",
       "      <td>4</td>\n",
       "      <td>4</td>\n",
       "      <td>at_home</td>\n",
       "      <td>teacher</td>\n",
       "      <td>...</td>\n",
       "      <td>4</td>\n",
       "      <td>3</td>\n",
       "      <td>4</td>\n",
       "      <td>1</td>\n",
       "      <td>1</td>\n",
       "      <td>3</td>\n",
       "      <td>6</td>\n",
       "      <td>5</td>\n",
       "      <td>6</td>\n",
       "      <td>6</td>\n",
       "    </tr>\n",
       "    <tr>\n",
       "      <th>1</th>\n",
       "      <td>GP</td>\n",
       "      <td>F</td>\n",
       "      <td>17</td>\n",
       "      <td>U</td>\n",
       "      <td>GT3</td>\n",
       "      <td>T</td>\n",
       "      <td>1</td>\n",
       "      <td>1</td>\n",
       "      <td>at_home</td>\n",
       "      <td>other</td>\n",
       "      <td>...</td>\n",
       "      <td>5</td>\n",
       "      <td>3</td>\n",
       "      <td>3</td>\n",
       "      <td>1</td>\n",
       "      <td>1</td>\n",
       "      <td>3</td>\n",
       "      <td>4</td>\n",
       "      <td>5</td>\n",
       "      <td>5</td>\n",
       "      <td>6</td>\n",
       "    </tr>\n",
       "    <tr>\n",
       "      <th>2</th>\n",
       "      <td>GP</td>\n",
       "      <td>F</td>\n",
       "      <td>15</td>\n",
       "      <td>U</td>\n",
       "      <td>LE3</td>\n",
       "      <td>T</td>\n",
       "      <td>1</td>\n",
       "      <td>1</td>\n",
       "      <td>at_home</td>\n",
       "      <td>other</td>\n",
       "      <td>...</td>\n",
       "      <td>4</td>\n",
       "      <td>3</td>\n",
       "      <td>2</td>\n",
       "      <td>2</td>\n",
       "      <td>3</td>\n",
       "      <td>3</td>\n",
       "      <td>10</td>\n",
       "      <td>7</td>\n",
       "      <td>8</td>\n",
       "      <td>10</td>\n",
       "    </tr>\n",
       "  </tbody>\n",
       "</table>\n",
       "<p>3 rows × 33 columns</p>\n",
       "</div>"
      ],
      "text/plain": [
       "  school sex  age address famsize Pstatus  Medu  Fedu     Mjob     Fjob  ...  \\\n",
       "0     GP   F   18       U     GT3       A     4     4  at_home  teacher  ...   \n",
       "1     GP   F   17       U     GT3       T     1     1  at_home    other  ...   \n",
       "2     GP   F   15       U     LE3       T     1     1  at_home    other  ...   \n",
       "\n",
       "  famrel freetime  goout  Dalc  Walc health absences G1 G2  G3  \n",
       "0      4        3      4     1     1      3        6  5  6   6  \n",
       "1      5        3      3     1     1      3        4  5  5   6  \n",
       "2      4        3      2     2     3      3       10  7  8  10  \n",
       "\n",
       "[3 rows x 33 columns]"
      ]
     },
     "execution_count": 7,
     "metadata": {},
     "output_type": "execute_result"
    }
   ],
   "source": [
    "import pandas as pd\n",
    "import numpy as np\n",
    "df  = pd.read_csv(\"/storage/emulated/0/Download/student-mat.csv\")\n",
    "df.head(3)"
   ]
  },
  {
   "cell_type": "code",
   "execution_count": 8,
   "id": "1e95cb39",
   "metadata": {},
   "outputs": [
    {
     "data": {
      "text/plain": [
       "395"
      ]
     },
     "execution_count": 8,
     "metadata": {},
     "output_type": "execute_result"
    }
   ],
   "source": [
    "len(df)"
   ]
  },
  {
   "cell_type": "markdown",
   "id": "519afde2",
   "metadata": {},
   "source": [
    "We are concerned with columns , absences ( no of absences), and G3 (final grade from 0 to 20)\n",
    "\n",
    "Let us create a couple new boolwan columns based on these columns to make our lives easier.\n",
    "\n",
    "Add a boolean column called grade_A nothing if a student achieved 80 % or higher as a final score. Orginal values are on 0 - 20 scale so we multiply by 5."
   ]
  },
  {
   "cell_type": "code",
   "execution_count": 9,
   "id": "304856b0",
   "metadata": {},
   "outputs": [],
   "source": [
    "df['grade_A']   = np.where(df['G3'] *5  >= 80  , 1 , 0)"
   ]
  },
  {
   "cell_type": "markdown",
   "id": "362ca726",
   "metadata": {},
   "source": [
    "Make a boolean column called high_absenses with a value of 1 if a student missed 10 or more classes."
   ]
  },
  {
   "cell_type": "code",
   "execution_count": 13,
   "id": "3f84b9da",
   "metadata": {},
   "outputs": [],
   "source": [
    "df['high_absences'] = np.where(df['absences']  >= 10, 1, 0)"
   ]
  },
  {
   "cell_type": "code",
   "execution_count": 10,
   "id": "211ad2f8",
   "metadata": {},
   "outputs": [
    {
     "data": {
      "text/html": [
       "<div>\n",
       "<style scoped>\n",
       "    .dataframe tbody tr th:only-of-type {\n",
       "        vertical-align: middle;\n",
       "    }\n",
       "\n",
       "    .dataframe tbody tr th {\n",
       "        vertical-align: top;\n",
       "    }\n",
       "\n",
       "    .dataframe thead th {\n",
       "        text-align: right;\n",
       "    }\n",
       "</style>\n",
       "<table border=\"1\" class=\"dataframe\">\n",
       "  <thead>\n",
       "    <tr style=\"text-align: right;\">\n",
       "      <th></th>\n",
       "      <th>school</th>\n",
       "      <th>sex</th>\n",
       "      <th>age</th>\n",
       "      <th>address</th>\n",
       "      <th>famsize</th>\n",
       "      <th>Pstatus</th>\n",
       "      <th>Medu</th>\n",
       "      <th>Fedu</th>\n",
       "      <th>Mjob</th>\n",
       "      <th>Fjob</th>\n",
       "      <th>...</th>\n",
       "      <th>freetime</th>\n",
       "      <th>goout</th>\n",
       "      <th>Dalc</th>\n",
       "      <th>Walc</th>\n",
       "      <th>health</th>\n",
       "      <th>absences</th>\n",
       "      <th>G1</th>\n",
       "      <th>G2</th>\n",
       "      <th>G3</th>\n",
       "      <th>grade_A</th>\n",
       "    </tr>\n",
       "  </thead>\n",
       "  <tbody>\n",
       "    <tr>\n",
       "      <th>0</th>\n",
       "      <td>GP</td>\n",
       "      <td>F</td>\n",
       "      <td>18</td>\n",
       "      <td>U</td>\n",
       "      <td>GT3</td>\n",
       "      <td>A</td>\n",
       "      <td>4</td>\n",
       "      <td>4</td>\n",
       "      <td>at_home</td>\n",
       "      <td>teacher</td>\n",
       "      <td>...</td>\n",
       "      <td>3</td>\n",
       "      <td>4</td>\n",
       "      <td>1</td>\n",
       "      <td>1</td>\n",
       "      <td>3</td>\n",
       "      <td>6</td>\n",
       "      <td>5</td>\n",
       "      <td>6</td>\n",
       "      <td>6</td>\n",
       "      <td>0</td>\n",
       "    </tr>\n",
       "    <tr>\n",
       "      <th>1</th>\n",
       "      <td>GP</td>\n",
       "      <td>F</td>\n",
       "      <td>17</td>\n",
       "      <td>U</td>\n",
       "      <td>GT3</td>\n",
       "      <td>T</td>\n",
       "      <td>1</td>\n",
       "      <td>1</td>\n",
       "      <td>at_home</td>\n",
       "      <td>other</td>\n",
       "      <td>...</td>\n",
       "      <td>3</td>\n",
       "      <td>3</td>\n",
       "      <td>1</td>\n",
       "      <td>1</td>\n",
       "      <td>3</td>\n",
       "      <td>4</td>\n",
       "      <td>5</td>\n",
       "      <td>5</td>\n",
       "      <td>6</td>\n",
       "      <td>0</td>\n",
       "    </tr>\n",
       "    <tr>\n",
       "      <th>2</th>\n",
       "      <td>GP</td>\n",
       "      <td>F</td>\n",
       "      <td>15</td>\n",
       "      <td>U</td>\n",
       "      <td>LE3</td>\n",
       "      <td>T</td>\n",
       "      <td>1</td>\n",
       "      <td>1</td>\n",
       "      <td>at_home</td>\n",
       "      <td>other</td>\n",
       "      <td>...</td>\n",
       "      <td>3</td>\n",
       "      <td>2</td>\n",
       "      <td>2</td>\n",
       "      <td>3</td>\n",
       "      <td>3</td>\n",
       "      <td>10</td>\n",
       "      <td>7</td>\n",
       "      <td>8</td>\n",
       "      <td>10</td>\n",
       "      <td>0</td>\n",
       "    </tr>\n",
       "  </tbody>\n",
       "</table>\n",
       "<p>3 rows × 34 columns</p>\n",
       "</div>"
      ],
      "text/plain": [
       "  school sex  age address famsize Pstatus  Medu  Fedu     Mjob     Fjob  ...  \\\n",
       "0     GP   F   18       U     GT3       A     4     4  at_home  teacher  ...   \n",
       "1     GP   F   17       U     GT3       T     1     1  at_home    other  ...   \n",
       "2     GP   F   15       U     LE3       T     1     1  at_home    other  ...   \n",
       "\n",
       "  freetime goout  Dalc  Walc  health absences G1 G2  G3 grade_A  \n",
       "0        3     4     1     1       3        6  5  6   6       0  \n",
       "1        3     3     1     1       3        4  5  5   6       0  \n",
       "2        3     2     2     3       3       10  7  8  10       0  \n",
       "\n",
       "[3 rows x 34 columns]"
      ]
     },
     "execution_count": 10,
     "metadata": {},
     "output_type": "execute_result"
    }
   ],
   "source": [
    "df.head(3)"
   ]
  },
  {
   "cell_type": "code",
   "execution_count": 11,
   "id": "122ef07a",
   "metadata": {},
   "outputs": [],
   "source": [
    "df['count']  = 1"
   ]
  },
  {
   "cell_type": "code",
   "execution_count": 14,
   "id": "3ae7efdd",
   "metadata": {},
   "outputs": [
    {
     "data": {
      "text/html": [
       "<div>\n",
       "<style scoped>\n",
       "    .dataframe tbody tr th:only-of-type {\n",
       "        vertical-align: middle;\n",
       "    }\n",
       "\n",
       "    .dataframe tbody tr th {\n",
       "        vertical-align: top;\n",
       "    }\n",
       "\n",
       "    .dataframe thead th {\n",
       "        text-align: right;\n",
       "    }\n",
       "</style>\n",
       "<table border=\"1\" class=\"dataframe\">\n",
       "  <thead>\n",
       "    <tr style=\"text-align: right;\">\n",
       "      <th></th>\n",
       "      <th>grade_A</th>\n",
       "      <th>high_absences</th>\n",
       "      <th>count</th>\n",
       "    </tr>\n",
       "  </thead>\n",
       "  <tbody>\n",
       "    <tr>\n",
       "      <th>0</th>\n",
       "      <td>0</td>\n",
       "      <td>0</td>\n",
       "      <td>1</td>\n",
       "    </tr>\n",
       "    <tr>\n",
       "      <th>1</th>\n",
       "      <td>0</td>\n",
       "      <td>0</td>\n",
       "      <td>1</td>\n",
       "    </tr>\n",
       "    <tr>\n",
       "      <th>2</th>\n",
       "      <td>0</td>\n",
       "      <td>1</td>\n",
       "      <td>1</td>\n",
       "    </tr>\n",
       "    <tr>\n",
       "      <th>3</th>\n",
       "      <td>0</td>\n",
       "      <td>0</td>\n",
       "      <td>1</td>\n",
       "    </tr>\n",
       "    <tr>\n",
       "      <th>4</th>\n",
       "      <td>0</td>\n",
       "      <td>0</td>\n",
       "      <td>1</td>\n",
       "    </tr>\n",
       "  </tbody>\n",
       "</table>\n",
       "</div>"
      ],
      "text/plain": [
       "   grade_A  high_absences  count\n",
       "0        0              0      1\n",
       "1        0              0      1\n",
       "2        0              1      1\n",
       "3        0              0      1\n",
       "4        0              0      1"
      ]
     },
     "execution_count": 14,
     "metadata": {},
     "output_type": "execute_result"
    }
   ],
   "source": [
    "df = df[['grade_A', 'high_absences', \"count\"]]\n",
    "df.head()"
   ]
  },
  {
   "cell_type": "markdown",
   "id": "e4acbaff",
   "metadata": {},
   "source": [
    "Now we have to create pivot table from this"
   ]
  },
  {
   "cell_type": "code",
   "execution_count": 16,
   "id": "a46002de",
   "metadata": {},
   "outputs": [],
   "source": [
    "final  = pd.pivot_table(\n",
    "         df, \n",
    "         values       = 'count' ,\n",
    "         index        = ['grade_A'],\n",
    "        columns       = ['high_absences'],\n",
    "        aggfunc       =  np.size,\n",
    "        fill_value    =  0    )"
   ]
  },
  {
   "cell_type": "code",
   "execution_count": 17,
   "id": "e7e0470e",
   "metadata": {},
   "outputs": [
    {
     "name": "stdout",
     "output_type": "stream",
     "text": [
      "high_absences    0   1\n",
      "grade_A               \n",
      "0              277  78\n",
      "1               35   5\n"
     ]
    }
   ],
   "source": [
    "print(final)"
   ]
  },
  {
   "cell_type": "markdown",
   "id": "c7268e7f",
   "metadata": {},
   "source": [
    "Calculate the probability that student will get grade A given that missing 10 or more classes We now have all the data we need to do our calculation. Ih our case: P(A) = prob of gradeof 80% or greater P(B) = prob of missing 10 or more lecture P(A/B) = prob of 80% + grade given missing more than 10 classes P(A)= (35+5) / (277+35+78+5) = 0.10126 P(B)= (78+5) / (277+35+78+5) = 0.2101 P(A or B) = (5) / (277+35+78+5) = 0.0126 P(A/B) = P(A or B)/P(B) = 0.60 The probability of getting atleast an 80% final grade , given missing 10 or more classes is 6%."
   ]
  },
  {
   "cell_type": "code",
   "execution_count": 3,
   "id": "50af05d9",
   "metadata": {},
   "outputs": [
    {
     "name": "stdout",
     "output_type": "stream",
     "text": [
      "P(A/B)= 6.024%\n"
     ]
    }
   ],
   "source": [
    "def prob(p_a, p_b, p_a_or_b) :\n",
    "   \n",
    "    \n",
    "    p_a_given_b  =  p_a_or_b / p_b\n",
    "    \n",
    "    return p_a_given_b\n",
    "p_a        = (35+5) / (277+35+78+5)\n",
    "p_b        = (78+5) / (277+35+78+5)\n",
    "p_a_or_b   =  (5) / (277+35+78+5)\n",
    "    \n",
    "    \n",
    "result  = prob(p_a, p_b, p_a_or_b)\n",
    "\n",
    "print('P(A/B)= %.3f%%' %(result * 100))"
   ]
  },
  {
   "cell_type": "markdown",
   "id": "df363aa1",
   "metadata": {},
   "source": [
    "# Combinatorics:Permutation,Combination,Variation "
   ]
  },
  {
   "cell_type": "code",
   "execution_count": 19,
   "id": "d6fc134a",
   "metadata": {},
   "outputs": [
    {
     "data": {
      "text/plain": [
       "[('g', 'g'), ('g', 'b'), ('b', 'g'), ('b', 'b')]"
      ]
     },
     "execution_count": 19,
     "metadata": {},
     "output_type": "execute_result"
    }
   ],
   "source": [
    "import itertools\n",
    "from itertools import product\n",
    "box_1=['g','b']\n",
    "perm=[]\n",
    "for p in itertools.product (box_1,repeat=2):\n",
    "    perm.append(p)\n",
    "perm"
   ]
  },
  {
   "cell_type": "code",
   "execution_count": 5,
   "id": "c1aa4c84",
   "metadata": {},
   "outputs": [
    {
     "data": {
      "text/plain": [
       "[('g', 'g', 'g'),\n",
       " ('g', 'g', 'b'),\n",
       " ('g', 'g', 'y'),\n",
       " ('g', 'b', 'g'),\n",
       " ('g', 'b', 'b'),\n",
       " ('g', 'b', 'y'),\n",
       " ('g', 'y', 'g'),\n",
       " ('g', 'y', 'b'),\n",
       " ('g', 'y', 'y'),\n",
       " ('b', 'g', 'g'),\n",
       " ('b', 'g', 'b'),\n",
       " ('b', 'g', 'y'),\n",
       " ('b', 'b', 'g'),\n",
       " ('b', 'b', 'b'),\n",
       " ('b', 'b', 'y'),\n",
       " ('b', 'y', 'g'),\n",
       " ('b', 'y', 'b'),\n",
       " ('b', 'y', 'y'),\n",
       " ('y', 'g', 'g'),\n",
       " ('y', 'g', 'b'),\n",
       " ('y', 'g', 'y'),\n",
       " ('y', 'b', 'g'),\n",
       " ('y', 'b', 'b'),\n",
       " ('y', 'b', 'y'),\n",
       " ('y', 'y', 'g'),\n",
       " ('y', 'y', 'b'),\n",
       " ('y', 'y', 'y')]"
      ]
     },
     "execution_count": 5,
     "metadata": {},
     "output_type": "execute_result"
    }
   ],
   "source": [
    "import itertools\n",
    "from itertools import product\n",
    "box_2=['g','b','y']\n",
    "perm=[]\n",
    "for p in itertools.product (box_2,repeat=3):\n",
    "    perm.append(p)\n",
    "perm"
   ]
  },
  {
   "cell_type": "code",
   "execution_count": 28,
   "id": "554f60bc",
   "metadata": {},
   "outputs": [
    {
     "name": "stdout",
     "output_type": "stream",
     "text": [
      "('g', 'y')\n",
      "('y', 'g')\n"
     ]
    }
   ],
   "source": [
    "import itertools \n",
    "\n",
    "box_1=['g','y']\n",
    "perm=itertools.permutations(box_1)\n",
    "\n",
    "for i in list (perm):\n",
    "    print(i)\n"
   ]
  },
  {
   "cell_type": "code",
   "execution_count": 29,
   "id": "76337625",
   "metadata": {},
   "outputs": [
    {
     "name": "stdout",
     "output_type": "stream",
     "text": [
      "('g', 'y', 'b')\n",
      "('g', 'b', 'y')\n",
      "('y', 'g', 'b')\n",
      "('y', 'b', 'g')\n",
      "('b', 'g', 'y')\n",
      "('b', 'y', 'g')\n"
     ]
    }
   ],
   "source": [
    "import itertools \n",
    "\n",
    "box_1=['g','y','b']\n",
    "perm=itertools.permutations(box_1)\n",
    "\n",
    "for i in list (perm):\n",
    "    print(i)\n"
   ]
  },
  {
   "cell_type": "markdown",
   "id": "06b6dc31",
   "metadata": {},
   "source": [
    "# Variations "
   ]
  },
  {
   "cell_type": "code",
   "execution_count": 33,
   "id": "07635792",
   "metadata": {},
   "outputs": [
    {
     "ename": "AttributeError",
     "evalue": "module 'itertools' has no attribute 'produt'",
     "output_type": "error",
     "traceback": [
      "\u001b[0;31m---------------------------------------------------------------------------\u001b[0m",
      "\u001b[0;31mAttributeError\u001b[0m                            Traceback (most recent call last)",
      "\u001b[0;32m/data/user/0/ru.iiec.pydroid3/cache/ipykernel_8310/3810709011.py\u001b[0m in \u001b[0;36m<module>\u001b[0;34m\u001b[0m\n\u001b[1;32m      4\u001b[0m \u001b[0mbox_2\u001b[0m\u001b[0;34m=\u001b[0m\u001b[0;34m[\u001b[0m\u001b[0;34m'g'\u001b[0m\u001b[0;34m,\u001b[0m\u001b[0;34m'b'\u001b[0m\u001b[0;34m,\u001b[0m\u001b[0;34m'y'\u001b[0m\u001b[0;34m]\u001b[0m\u001b[0;34m\u001b[0m\u001b[0;34m\u001b[0m\u001b[0m\n\u001b[1;32m      5\u001b[0m \u001b[0mperm\u001b[0m\u001b[0;34m=\u001b[0m\u001b[0;34m[\u001b[0m\u001b[0;34m]\u001b[0m\u001b[0;34m\u001b[0m\u001b[0;34m\u001b[0m\u001b[0m\n\u001b[0;32m----> 6\u001b[0;31m \u001b[0;32mfor\u001b[0m \u001b[0mp\u001b[0m \u001b[0;32min\u001b[0m \u001b[0mitertools\u001b[0m\u001b[0;34m.\u001b[0m\u001b[0mprodut\u001b[0m\u001b[0;34m(\u001b[0m\u001b[0mbox_2\u001b[0m\u001b[0;34m,\u001b[0m\u001b[0mrepeat\u001b[0m\u001b[0;34m=\u001b[0m\u001b[0;36m2\u001b[0m\u001b[0;34m)\u001b[0m\u001b[0;34m:\u001b[0m\u001b[0;34m\u001b[0m\u001b[0;34m\u001b[0m\u001b[0m\n\u001b[0m\u001b[1;32m      7\u001b[0m     \u001b[0mperm\u001b[0m\u001b[0;34m.\u001b[0m\u001b[0mappend\u001b[0m\u001b[0;34m(\u001b[0m\u001b[0mp\u001b[0m\u001b[0;34m)\u001b[0m\u001b[0;34m\u001b[0m\u001b[0;34m\u001b[0m\u001b[0m\n\u001b[1;32m      8\u001b[0m \u001b[0mperm\u001b[0m\u001b[0;34m\u001b[0m\u001b[0;34m\u001b[0m\u001b[0m\n",
      "\u001b[0;31mAttributeError\u001b[0m: module 'itertools' has no attribute 'produt'"
     ]
    }
   ],
   "source": [
    "import itertools\n",
    "from itertools import product\n",
    "\n",
    "box_2=['g','b','y']\n",
    "perm=[]\n",
    "for p in itertools.produt(box_2,repeat=2):\n",
    "    perm.append(p)\n",
    "perm"
   ]
  },
  {
   "cell_type": "code",
   "execution_count": 21,
   "id": "2fb892d5",
   "metadata": {},
   "outputs": [
    {
     "name": "stdout",
     "output_type": "stream",
     "text": [
      "('g', 'b')\n",
      "('g', 'y')\n",
      "('b', 'g')\n",
      "('b', 'y')\n",
      "('y', 'g')\n",
      "('y', 'b')\n"
     ]
    }
   ],
   "source": [
    "box_2=['g','b','y']\n",
    "perm=itertools.permutations(box_2,2)\n",
    "\n",
    "for i in list (perm):\n",
    "    print(i)"
   ]
  },
  {
   "cell_type": "code",
   "execution_count": 24,
   "id": "95916124",
   "metadata": {},
   "outputs": [
    {
     "name": "stdout",
     "output_type": "stream",
     "text": [
      "('g', 'g')\n",
      "('g', 'b')\n",
      "('b', 'b')\n"
     ]
    }
   ],
   "source": [
    "from itertools import combinations_with_replacement\n",
    "box_1=['g','b']\n",
    "comb=combinations_with_replacement(box_1,2)\n",
    "\n",
    "\n",
    "for i in list(comb):\n",
    "    print(i)"
   ]
  },
  {
   "cell_type": "code",
   "execution_count": 25,
   "id": "3b85be80",
   "metadata": {},
   "outputs": [
    {
     "name": "stdout",
     "output_type": "stream",
     "text": [
      "('g', 'g')\n",
      "('g', 'b')\n",
      "('g', 'y')\n",
      "('g', 'w')\n",
      "('b', 'b')\n",
      "('b', 'y')\n",
      "('b', 'w')\n",
      "('y', 'y')\n",
      "('y', 'w')\n",
      "('w', 'w')\n"
     ]
    }
   ],
   "source": [
    "from itertools import combinations_with_replacement\n",
    "\n",
    "box_1=['g','b','y','w']\n",
    "comb=combinations_with_replacement(box_1,2)\n",
    "\n",
    "\n",
    "for i in list(comb):\n",
    "    print(i)\n",
    "\n"
   ]
  },
  {
   "cell_type": "code",
   "execution_count": 27,
   "id": "7cd2fbfb",
   "metadata": {},
   "outputs": [
    {
     "name": "stdout",
     "output_type": "stream",
     "text": [
      "('g', 'b')\n",
      "('g', 'y')\n",
      "('g', 'w')\n",
      "('b', 'y')\n",
      "('b', 'w')\n",
      "('y', 'w')\n"
     ]
    }
   ],
   "source": [
    "from itertools import combinations \n",
    "comb=combinations(box_1,2)\n",
    "for i in list (comb):\n",
    "    print(i)"
   ]
  },
  {
   "cell_type": "code",
   "execution_count": 35,
   "id": "d771783b",
   "metadata": {},
   "outputs": [
    {
     "name": "stdout",
     "output_type": "stream",
     "text": [
      "('b', 'g')\n",
      "('b', 'y')\n",
      "('g', 'y')\n"
     ]
    }
   ],
   "source": [
    "from itertools import combinations\n",
    "box_1=['b','g','y']\n",
    "comb=combinations(box_1,2)\n",
    "\n",
    "for i in list(comb):\n",
    "    print(i)"
   ]
  },
  {
   "cell_type": "code",
   "execution_count": null,
   "id": "887578ef",
   "metadata": {},
   "outputs": [],
   "source": []
  }
 ],
 "metadata": {
  "kernelspec": {
   "display_name": "Python 3 (ipykernel)",
   "language": "python",
   "name": "python3"
  },
  "language_info": {
   "codemirror_mode": {
    "name": "ipython",
    "version": 3
   },
   "file_extension": ".py",
   "mimetype": "text/x-python",
   "name": "python",
   "nbconvert_exporter": "python",
   "pygments_lexer": "ipython3",
   "version": "3.8.3"
  }
 },
 "nbformat": 4,
 "nbformat_minor": 5
}
